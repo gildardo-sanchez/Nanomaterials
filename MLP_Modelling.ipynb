{
 "cells": [
  {
   "cell_type": "markdown",
   "id": "31ccaedd",
   "metadata": {},
   "source": [
    "# Training a MLP"
   ]
  },
  {
   "cell_type": "code",
   "execution_count": null,
   "id": "ac11dce2",
   "metadata": {},
   "outputs": [],
   "source": [
    "# import some libraries\n",
    "import pandas as pd\n",
    "import numpy as np"
   ]
  },
  {
   "cell_type": "markdown",
   "id": "da44dd4a",
   "metadata": {},
   "source": [
    "Import dataset, separate attribute columns from output"
   ]
  },
  {
   "cell_type": "code",
   "execution_count": null,
   "id": "5fec9f69",
   "metadata": {},
   "outputs": [],
   "source": [
    "# Load data. The original dataset includes names in first row\n",
    "dataset = pd.read_csv(\"data11tumors2.csv\")\n",
    "\n",
    "# Separate the class from the attributes\n",
    "target = pd.DataFrame(dataset, columns= ['Class'])\n",
    "\n",
    "#print (target)\n",
    "\n",
    "attributes= dataset.loc[ : , dataset.columns != 'Class']\n",
    "#print(attributes)"
   ]
  },
  {
   "cell_type": "markdown",
   "id": "fcdd9242",
   "metadata": {},
   "source": [
    "Split dataset"
   ]
  },
  {
   "cell_type": "code",
   "execution_count": null,
   "id": "c426d1ce",
   "metadata": {},
   "outputs": [],
   "source": [
    "#Splitting the dataset into  training and validation sets\n",
    "from sklearn.model_selection import train_test_split\n",
    "X_train,X_test,y_train,y_test= train_test_split(\n",
    "    attributes,target,test_size=0.33, random_state=50)\n",
    "\n",
    "#print(X_train.shape, X_test.shape, y_train.shape, y_test.shape)"
   ]
  },
  {
   "cell_type": "markdown",
   "id": "cbb20ce6",
   "metadata": {},
   "source": [
    "Train an MLP"
   ]
  },
  {
   "cell_type": "code",
   "execution_count": null,
   "id": "3afe57f1",
   "metadata": {},
   "outputs": [],
   "source": [
    "# Train one model with raw data to establish a reference.\n",
    "# In this case, we will train a MLP\n",
    "from sklearn.neural_network import MLPClassifier\n",
    "\n",
    "#Initializing the MLPClassifier\n",
    "classifier = MLPClassifier(hidden_layer_sizes=(100,50,10), max_iter=1000,\n",
    "                           activation = 'relu',solver='adam',random_state=1)\n",
    "\n",
    "#Fitting the training data to the network\n",
    "classifier.fit(X_train, y_train.values.ravel())\n",
    "\n",
    "#Predicting y for X_val\n",
    "y_pred = classifier.predict(X_test)"
   ]
  },
  {
   "cell_type": "code",
   "execution_count": null,
   "id": "ab71f733",
   "metadata": {},
   "outputs": [],
   "source": []
  },
  {
   "cell_type": "markdown",
   "id": "6afc1735",
   "metadata": {},
   "source": [
    "Compute accuracy"
   ]
  }
 ],
 "metadata": {
  "kernelspec": {
   "display_name": "Python 3 (ipykernel)",
   "language": "python",
   "name": "python3"
  },
  "language_info": {
   "codemirror_mode": {
    "name": "ipython",
    "version": 3
   },
   "file_extension": ".py",
   "mimetype": "text/x-python",
   "name": "python",
   "nbconvert_exporter": "python",
   "pygments_lexer": "ipython3",
   "version": "3.8.11"
  }
 },
 "nbformat": 4,
 "nbformat_minor": 5
}
